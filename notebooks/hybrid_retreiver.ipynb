{
 "cells": [
  {
   "cell_type": "markdown",
   "id": "7fa739cd-b3b6-44f0-b83a-372222680444",
   "metadata": {},
   "source": [
    "# Adapted from https://milvus.io/docs/multi-vector-search.md"
   ]
  },
  {
   "cell_type": "code",
   "execution_count": 2,
   "id": "f65286b6-3d1b-4ca0-ae35-3e0633457608",
   "metadata": {},
   "outputs": [],
   "source": [
    "%%capture\n",
    "from pymilvus import MilvusClient, DataType, Function, FunctionType, AnnSearchRequest, RRFRanker\n",
    "\n",
    "client = MilvusClient(\"./milvus_demo.db\")"
   ]
  },
  {
   "cell_type": "code",
   "execution_count": 3,
   "id": "4b070d5e-d3d2-45e2-82f5-92320c1fd031",
   "metadata": {},
   "outputs": [],
   "source": [
    "from sentence_transformers import SentenceTransformer\n",
    "\n",
    "model = SentenceTransformer('multi-qa-mpnet-base-cos-v1')"
   ]
  },
  {
   "cell_type": "code",
   "execution_count": 4,
   "id": "e4499eae-beb3-4bff-8f7d-516b75db9f49",
   "metadata": {},
   "outputs": [
    {
     "data": {
      "text/plain": [
       "{'auto_id': False, 'description': '', 'fields': [{'name': 'id', 'description': '', 'type': <DataType.INT64: 5>, 'is_primary': True, 'auto_id': True}, {'name': 'text', 'description': '', 'type': <DataType.VARCHAR: 21>, 'params': {'max_length': 2048, 'enable_analyzer': True}}, {'name': 'sparse', 'description': '', 'type': <DataType.SPARSE_FLOAT_VECTOR: 104>}, {'name': 'dense', 'description': '', 'type': <DataType.FLOAT_VECTOR: 101>, 'params': {'dim': 768}}], 'enable_dynamic_field': False}"
      ]
     },
     "execution_count": 4,
     "metadata": {},
     "output_type": "execute_result"
    }
   ],
   "source": [
    "schema = client.create_schema()\n",
    "\n",
    "schema.add_field(field_name=\"id\", datatype=DataType.INT64, is_primary=True, auto_id=True)\n",
    "schema.add_field(field_name=\"text\", datatype=DataType.VARCHAR, max_length=2048, enable_analyzer=True)\n",
    "schema.add_field(field_name=\"sparse\", datatype=DataType.SPARSE_FLOAT_VECTOR)\n",
    "schema.add_field(field_name=\"dense\", datatype=DataType.FLOAT_VECTOR, dim=768)"
   ]
  },
  {
   "cell_type": "code",
   "execution_count": 5,
   "id": "2b3e4e32-6ad6-4c3a-b2f9-539917826c58",
   "metadata": {},
   "outputs": [
    {
     "data": {
      "text/plain": [
       "{'auto_id': False, 'description': '', 'fields': [{'name': 'id', 'description': '', 'type': <DataType.INT64: 5>, 'is_primary': True, 'auto_id': True}, {'name': 'text', 'description': '', 'type': <DataType.VARCHAR: 21>, 'params': {'max_length': 2048, 'enable_analyzer': True}}, {'name': 'sparse', 'description': '', 'type': <DataType.SPARSE_FLOAT_VECTOR: 104>, 'is_function_output': True}, {'name': 'dense', 'description': '', 'type': <DataType.FLOAT_VECTOR: 101>, 'params': {'dim': 768}}], 'enable_dynamic_field': False, 'functions': [{'name': 'text_bm25_emb', 'description': '', 'type': <FunctionType.BM25: 1>, 'input_field_names': ['text'], 'output_field_names': ['sparse'], 'params': {}}]}"
      ]
     },
     "execution_count": 5,
     "metadata": {},
     "output_type": "execute_result"
    }
   ],
   "source": [
    "bm25_function = Function(\n",
    "    name=\"text_bm25_emb\", # Function name\n",
    "    input_field_names=[\"text\"], # Name of the VARCHAR field containing raw text data\n",
    "    output_field_names=[\"sparse\"], # Name of the SPARSE_FLOAT_VECTOR field reserved to store generated embeddings\n",
    "    function_type=FunctionType.BM25, # Set to `BM25`\n",
    ")\n",
    "\n",
    "schema.add_function(bm25_function)"
   ]
  },
  {
   "cell_type": "code",
   "execution_count": 6,
   "id": "10a183cc-a152-44ac-80d3-a4e8549f264c",
   "metadata": {},
   "outputs": [],
   "source": [
    "index_params = client.prepare_index_params()\n",
    "\n",
    "index_params.add_index(\n",
    "    field_name=\"sparse\",\n",
    "    index_type=\"SPARSE_INVERTED_INDEX\",\n",
    "    metric_type=\"BM25\",\n",
    "    params={\n",
    "        \"inverted_index_algo\": \"DAAT_MAXSCORE\",\n",
    "        \"bm25_k1\": 1.2,\n",
    "        \"bm25_b\": 0.75\n",
    "    }\n",
    ")\n",
    "\n",
    "index_params.add_index(\n",
    "    field_name=\"dense\",\n",
    "    index_name=\"text_dense_index\",\n",
    "    index_type=\"AUTOINDEX\",\n",
    "    metric_type=\"IP\"\n",
    ")"
   ]
  },
  {
   "cell_type": "code",
   "execution_count": 7,
   "id": "0bb6a25f-d7a0-4ab0-b6b5-2a80fefe9ec0",
   "metadata": {},
   "outputs": [],
   "source": [
    "# Drop existing collection with the same name if it exists\n",
    "if client.has_collection(\"nyu_libraries_guides\"):\n",
    "    client.drop_collection(\"nyu_libraries_guides\")"
   ]
  },
  {
   "cell_type": "code",
   "execution_count": 8,
   "id": "704f57bd-972b-403d-ab70-dd670a79b1f4",
   "metadata": {},
   "outputs": [],
   "source": [
    "client.create_collection(\n",
    "    collection_name='nyu_libraries_guides', \n",
    "    schema=schema, \n",
    "    index_params=index_params\n",
    ")"
   ]
  },
  {
   "cell_type": "markdown",
   "id": "617a41a9-fe2d-4d3a-b359-31b31fe03e7e",
   "metadata": {},
   "source": [
    "## Set up chunker for use"
   ]
  },
  {
   "cell_type": "code",
   "execution_count": 9,
   "id": "77c812f0-c6a5-4cbb-9cd4-625bf810ac6d",
   "metadata": {},
   "outputs": [],
   "source": [
    "from docling.document_converter import DocumentConverter\n",
    "from docling.chunking import HybridChunker\n",
    "\n",
    "converter = DocumentConverter()\n",
    "chunker = HybridChunker()"
   ]
  },
  {
   "cell_type": "code",
   "execution_count": 10,
   "id": "fd3906a7-797a-4b5e-b0e2-83ee18b9bf08",
   "metadata": {},
   "outputs": [],
   "source": [
    "import pickle\n",
    "\n",
    "with open(\"guides.pickle\", \"rb\") as f:\n",
    "    guides = pickle.load(f)"
   ]
  },
  {
   "cell_type": "code",
   "execution_count": 11,
   "id": "9103ee9b-837a-4b16-a6e5-0ed9d331b950",
   "metadata": {},
   "outputs": [
    {
     "name": "stdout",
     "output_type": "stream",
     "text": [
      "https://guides.nyu.edu/LaTeX\n"
     ]
    }
   ],
   "source": [
    "for subjects in guides[ 'https://guides.nyu.edu/LaTeX']:\n",
    "    print(subjects)"
   ]
  },
  {
   "cell_type": "code",
   "execution_count": 12,
   "id": "c1a065f4-1d79-4c95-9735-1ee0300b93b2",
   "metadata": {},
   "outputs": [
    {
     "name": "stderr",
     "output_type": "stream",
     "text": [
      "  6%|████▊                                                                            | 19/319 [00:21<04:35,  1.09it/s]Token indices sequence length is longer than the specified maximum sequence length for this model (533 > 512). Running this sequence through the model will result in indexing errors\n",
      " 10%|███████▊                                                                         | 31/319 [00:35<04:37,  1.04it/s]Clashing hyperlinks: 'https://www-degruyter-com.proxy.library.nyu.edu/document/doi/10.7312/orth14675/html' and 'https://search.library.nyu.edu/permalink/01NYU_INST/1d6v258/alma990045458320107876'! Chose 'https://search.library.nyu.edu/permalink/01NYU_INST/1d6v258/alma990045458320107876'\n",
      " 47%|█████████████████████████████████████▎                                          | 149/319 [01:52<01:31,  1.85it/s]Clashing hyperlinks: 'https://persistent.library.nyu.edu/arch/NYU00819' and 'https://persistent.library.nyu.edu/arch/NYU02589'! Chose 'https://persistent.library.nyu.edu/arch/NYU02589'\n",
      " 75%|███████████████████████████████████████████████████████████▋                    | 238/319 [02:46<00:44,  1.83it/s]Clashing formatting: 'bold=True italic=True underline=False strikethrough=False script=<Script.BASELINE: 'baseline'>' and 'bold=True italic=False underline=False strikethrough=False script=<Script.BASELINE: 'baseline'>'! Chose 'bold=True italic=False underline=False strikethrough=False script=<Script.BASELINE: 'baseline'>'\n",
      "100%|████████████████████████████████████████████████████████████████████████████████| 319/319 [03:39<00:00,  1.45it/s]\n"
     ]
    }
   ],
   "source": [
    "from tqdm import tqdm\n",
    "\n",
    "#for guide in tqdm([\"https://guides.nyu.edu/LaTeX\"]):\n",
    "for guide in tqdm(guides.keys()):\n",
    "    for subject in guides[guide]:\n",
    "        DOC_SOURCE = subject\n",
    "        try:\n",
    "            doc = converter.convert(source=DOC_SOURCE).document\n",
    "            chunk_iter = chunker.chunk(dl_doc=doc)\n",
    "            texts = [chunk.text for chunk in chunker.chunk(doc)]\n",
    "    \n",
    "            for text in texts:\n",
    "                if \"Email Me\" not in text:\n",
    "                    client.insert('nyu_libraries_guides', [{'text': text, 'dense': model.encode(text)}])\n",
    "        except:\n",
    "            pass"
   ]
  },
  {
   "cell_type": "code",
   "execution_count": 12,
   "id": "9d2d5393-9791-469d-92b7-663dc7501fd7",
   "metadata": {},
   "outputs": [],
   "source": [
    "query = \"How can I use Matlab for research?\"\n",
    "\n",
    "search_params_sparse = {\n",
    "    \"data\": [query],\n",
    "    \"anns_field\": \"sparse\",\n",
    "    \"param\": {\"drop_ratio_search\": 0.2},\n",
    "    \"limit\": 5,\n",
    "\n",
    "}\n",
    "sparse_request = AnnSearchRequest(**search_params_sparse)\n",
    "\n",
    "search_params_dense = {\n",
    "    \"data\": [model.encode(query)],\n",
    "    \"anns_field\": \"dense\",\n",
    "    \"param\": {\"nprobe\": 10},\n",
    "    \"limit\": 5\n",
    "}\n",
    "dense_request = AnnSearchRequest(**search_params_dense)"
   ]
  },
  {
   "cell_type": "code",
   "execution_count": 13,
   "id": "5a150ce0-5db3-4685-8684-346f09085fbf",
   "metadata": {},
   "outputs": [
    {
     "name": "stdout",
     "output_type": "stream",
     "text": [
      "Hybrid Search results:\n",
      "-----------------------------------------\n",
      "MATLAB  integrates numerical analysis, matrix computation, signal processing, and graphics in an easy to use environment.\n",
      "- MATLAB is available for students through the Virtual Computer Lab.\n",
      "- Individual licenses for faculty, staff, and students available through the NYU Computer Store.\n",
      "-----------------------------------------\n",
      "1. What is the most important/interesting/astounding finding from my research project?\n",
      "2. How can I visually share my research with conference attendees? Should I use charts, graphs, photos, images?\n",
      "3. What kind of information can I convey during my talk that will complement my poster?\n",
      "-----------------------------------------\n",
      "Is NMR processing software for Windows, Mac, and Linux.\n",
      "- TopSpin can be downloaded for free, for academic use, from the vendor website after registering an account with your NYU email address.\n",
      "- For more NMR freeware/software options, please consult the University of Washington's guide to NMR data processing.\n",
      "- Next: Books & Articles >>\n",
      "- Last Updated: Aug 19, 2025 10:41 AM\n",
      "- URL: https://guides.nyu.edu/chemistry\n",
      "- Print Page\n",
      "Login to LibApps\n",
      "Report a problem\n",
      "Subjects: Chemistry, Science\n",
      "Tags: chemistry, science, sciences\n",
      "Accessibility(opens\n",
      "in new window)\n"
     ]
    }
   ],
   "source": [
    "reqs = [sparse_request, dense_request]\n",
    "ranker = RRFRanker()\n",
    "\n",
    "res = client.hybrid_search(\n",
    "    collection_name=\"nyu_libraries_guides\",\n",
    "    reqs=reqs,\n",
    "    ranker=ranker,\n",
    "    limit=3,\n",
    "    output_fields=[\"text\"],  # Return id and species\n",
    ")\n",
    "for hits in res:\n",
    "    print(\"Hybrid Search results:\")\n",
    "    for hit in hits:\n",
    "        print(\"-----------------------------------------\")\n",
    "        print(f\"{hit.entity.get('text')}\")"
   ]
  },
  {
   "cell_type": "code",
   "execution_count": null,
   "id": "a35be8d3-3375-4895-8589-761cd60857e2",
   "metadata": {},
   "outputs": [],
   "source": []
  }
 ],
 "metadata": {
  "kernelspec": {
   "display_name": "Python 3 (ipykernel)",
   "language": "python",
   "name": "python3"
  },
  "language_info": {
   "codemirror_mode": {
    "name": "ipython",
    "version": 3
   },
   "file_extension": ".py",
   "mimetype": "text/x-python",
   "name": "python",
   "nbconvert_exporter": "python",
   "pygments_lexer": "ipython3",
   "version": "3.13.0"
  }
 },
 "nbformat": 4,
 "nbformat_minor": 5
}
