{
 "cells": [
  {
   "cell_type": "code",
   "execution_count": 1,
   "id": "3505348a-b0eb-4a12-93b8-8ce299b7f26f",
   "metadata": {},
   "outputs": [],
   "source": [
    "from docling.datamodel.base_models import InputFormat\n",
    "from docling.datamodel.pipeline_options import PdfPipelineOptions\n",
    "from docling.document_converter import DocumentConverter, PdfFormatOption"
   ]
  },
  {
   "cell_type": "code",
   "execution_count": 2,
   "id": "778dc2e0-6f61-4a54-805e-e5268f025f34",
   "metadata": {},
   "outputs": [],
   "source": [
    "# The source document\n",
    "DOC_SOURCE = \"https://ml-site.cdn-apple.com/papers/the-illusion-of-thinking.pdf\""
   ]
  },
  {
   "cell_type": "code",
   "execution_count": 3,
   "id": "f0ae8d55-6aba-4618-9f47-a0838aa6d1be",
   "metadata": {},
   "outputs": [],
   "source": [
    "from docling.datamodel.pipeline_options import smolvlm_picture_description\n",
    "\n",
    "pipeline_options = PdfPipelineOptions()\n",
    "pipeline_options.do_picture_description = True\n",
    "pipeline_options.picture_description_options = (\n",
    "    smolvlm_picture_description  # <-- the model choice\n",
    ")\n",
    "pipeline_options.picture_description_options.prompt = (\n",
    "    \"Describe the image in five sentences. Be consise and accurate.\"\n",
    ")\n",
    "pipeline_options.images_scale = 2.0\n",
    "pipeline_options.generate_picture_images = True\n",
    "\n",
    "converter = DocumentConverter(\n",
    "    format_options={\n",
    "        InputFormat.PDF: PdfFormatOption(\n",
    "            pipeline_options=pipeline_options,\n",
    "        )\n",
    "    }\n",
    ")\n",
    "\n",
    "# Convert only 6th page to a DoclingDocument\n",
    "doc = converter.convert(DOC_SOURCE, page_range=(6,6)).document"
   ]
  },
  {
   "cell_type": "code",
   "execution_count": 4,
   "id": "80450a0d-1b35-4f6e-9ad7-27488919bca4",
   "metadata": {},
   "outputs": [
    {
     "name": "stdout",
     "output_type": "stream",
     "text": [
      "Figure 3: Illustration of the four puzzle environments. Columns show the progression from initial state (top) through intermediate state (middle) to target state (bottom) for puzzles: Tower of Hanoi (disk transfer across pegs), Checkers Jumping (position swapping of colored tokens), River Crossing (transporting entities across a river), and Blocks World (stack reconfiguration).\n",
      "\n",
      "The image is a bar chart titled \"Tower of Hanoi River Crossing Blocks World.\" It presents a ranking of different locations along with their respective scores in a game of checkers. The chart has a legend at the top center, which indicates the different locations. The x-axis represents the score, while the y-axis lists the locations.\n",
      "\n",
      "Here is a detailed description of the elements present in the image:\n",
      "\n",
      "1. **Title**: The title of the chart is \"Tower of Hanoi River Crossing Blocks World.\"\n",
      "2. **Bars**: There are two sets of bars: one for the initial score and another for the final score. The initial score is represented by a blue bar, and the final score is represented by a red bar.\n",
      "3. **Bars**: The initial bar is blue and has a value of 100. The final bar is red and has a value of 100.\n",
      "4. **Legend\n",
      "\n",
      "<!-- image -->\n",
      "\n",
      "## 3.1 Puzzle Environments\n",
      "\n",
      "We evaluate LRM reasoning on four controllable puzzles spanning compositional depth, planning\n",
      "\n",
      "Checker Jumping is a one-dimensional puzzle arranging red checkers, blue checkers, and a single empty space in a line. The objective is to swap the positions of all red and blue checkers, effectively mirroring the initial configuration. Valid moves include sliding a checker into an adjacent empty space or jumping over exactly one checker of the opposite color to land in an empty space. No checker can move backward in the puzzle process. The complexity of this task can be controlled by the number of checkers: with 2 n checkers, the minimum number of moves required will be ( n +1) 2 -1 . is a constraint satisfaction planning puzzle involving actors and their corresponding complexity, and distributional settings. The puzzles are defined below and illustrated in Fig. 3. Tower of Hanoi is a puzzle featuring three pegs and n disks of different sizes stacked on the first peg in size order (largest at bottom). The goal is to transfer all disks from the first peg to the third peg. Valid moves include moving only one disk at a time, taking only the top disk from a peg, and never placing a larger disk on top of a smaller one. The difficulty in this task can be controlled by the number of initial disks as the minimum number of required moves with n initial disks will be 2 n -1 . However, in this work we do not grade for optimality of final solution and only measuring the correctness of each move and reaching the target state.\n",
      "\n",
      "River Crossing n n agents who must cross a river using a boat. The goal is to transport all 2 n individuals from the left bank to the right bank. The boat can carry at most k individuals and cannot travel empty. Invalid situations arise when an actor is in the presence of another agent without their own agent present, as each agent must protect their client from competing agents. The complexity of this task can also be controlled by the number of actor/agent pairs present. For n = 2 , n = 3 pairs, we use boat capacity of k = 2 and for larger number of pairs we use k = 3 .\n",
      "\n",
      "Blocks World is a block-stacking puzzle requiring rearrangement of blocks from an initial configuration into a specified goal configuration. The objective is to find the minimum number of moves needed for this transformation. Valid moves are restricted to the topmost block of any stack, which can be placed either on an empty stack or on top of another block. The complexity in this task can be controlled by the number of blocks present.\n"
     ]
    }
   ],
   "source": [
    "print(doc.export_to_markdown())"
   ]
  },
  {
   "cell_type": "code",
   "execution_count": null,
   "id": "d7ce1a21-0985-40dd-96af-5004b9cdd0dc",
   "metadata": {},
   "outputs": [],
   "source": []
  }
 ],
 "metadata": {
  "kernelspec": {
   "display_name": "Python 3 (ipykernel)",
   "language": "python",
   "name": "python3"
  },
  "language_info": {
   "codemirror_mode": {
    "name": "ipython",
    "version": 3
   },
   "file_extension": ".py",
   "mimetype": "text/x-python",
   "name": "python",
   "nbconvert_exporter": "python",
   "pygments_lexer": "ipython3",
   "version": "3.13.0"
  }
 },
 "nbformat": 4,
 "nbformat_minor": 5
}
