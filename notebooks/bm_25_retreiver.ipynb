{
 "cells": [
  {
   "cell_type": "markdown",
   "id": "7fa739cd-b3b6-44f0-b83a-372222680444",
   "metadata": {},
   "source": [
    "# Adapted from https://milvus.io/docs/full-text-search.md"
   ]
  },
  {
   "cell_type": "code",
   "execution_count": 1,
   "id": "f65286b6-3d1b-4ca0-ae35-3e0633457608",
   "metadata": {},
   "outputs": [
    {
     "name": "stderr",
     "output_type": "stream",
     "text": [
      "/Users/ss19980/Documents/packages/rag-forc-2025/notebooks/.venv/lib/python3.13/site-packages/google/protobuf/runtime_version.py:98: UserWarning: Protobuf gencode version 5.27.2 is exactly one major version older than the runtime version 6.31.1 at schema.proto. Please update the gencode to avoid compatibility violations in the next runtime release.\n",
      "  warnings.warn(\n",
      "/Users/ss19980/Documents/packages/rag-forc-2025/notebooks/.venv/lib/python3.13/site-packages/google/protobuf/runtime_version.py:98: UserWarning: Protobuf gencode version 5.27.2 is exactly one major version older than the runtime version 6.31.1 at common.proto. Please update the gencode to avoid compatibility violations in the next runtime release.\n",
      "  warnings.warn(\n",
      "/Users/ss19980/Documents/packages/rag-forc-2025/notebooks/.venv/lib/python3.13/site-packages/google/protobuf/runtime_version.py:98: UserWarning: Protobuf gencode version 5.27.2 is exactly one major version older than the runtime version 6.31.1 at milvus.proto. Please update the gencode to avoid compatibility violations in the next runtime release.\n",
      "  warnings.warn(\n",
      "/Users/ss19980/Documents/packages/rag-forc-2025/notebooks/.venv/lib/python3.13/site-packages/google/protobuf/runtime_version.py:98: UserWarning: Protobuf gencode version 5.27.2 is exactly one major version older than the runtime version 6.31.1 at rg.proto. Please update the gencode to avoid compatibility violations in the next runtime release.\n",
      "  warnings.warn(\n",
      "/Users/ss19980/Documents/packages/rag-forc-2025/notebooks/.venv/lib/python3.13/site-packages/google/protobuf/runtime_version.py:98: UserWarning: Protobuf gencode version 5.27.2 is exactly one major version older than the runtime version 6.31.1 at feder.proto. Please update the gencode to avoid compatibility violations in the next runtime release.\n",
      "  warnings.warn(\n",
      "/Users/ss19980/Documents/packages/rag-forc-2025/notebooks/.venv/lib/python3.13/site-packages/google/protobuf/runtime_version.py:98: UserWarning: Protobuf gencode version 5.27.2 is exactly one major version older than the runtime version 6.31.1 at msg.proto. Please update the gencode to avoid compatibility violations in the next runtime release.\n",
      "  warnings.warn(\n",
      "/Users/ss19980/Documents/packages/rag-forc-2025/notebooks/.venv/lib/python3.13/site-packages/milvus_lite/__init__.py:15: UserWarning: pkg_resources is deprecated as an API. See https://setuptools.pypa.io/en/latest/pkg_resources.html. The pkg_resources package is slated for removal as early as 2025-11-30. Refrain from using this package or pin to Setuptools<81.\n",
      "  from pkg_resources import DistributionNotFound, get_distribution\n"
     ]
    },
    {
     "data": {
      "text/plain": [
       "{'auto_id': False, 'description': '', 'fields': [{'name': 'id', 'description': '', 'type': <DataType.INT64: 5>, 'is_primary': True, 'auto_id': True}, {'name': 'text', 'description': '', 'type': <DataType.VARCHAR: 21>, 'params': {'max_length': 2048, 'enable_analyzer': True}}, {'name': 'sparse', 'description': '', 'type': <DataType.SPARSE_FLOAT_VECTOR: 104>}], 'enable_dynamic_field': False}"
      ]
     },
     "execution_count": 1,
     "metadata": {},
     "output_type": "execute_result"
    }
   ],
   "source": [
    "from pymilvus import MilvusClient, DataType, Function, FunctionType\n",
    "\n",
    "client = MilvusClient(\"./milvus_demo.db\")\n",
    "\n",
    "schema = client.create_schema()\n",
    "\n",
    "schema.add_field(field_name=\"id\", datatype=DataType.INT64, is_primary=True, auto_id=True)\n",
    "schema.add_field(field_name=\"text\", datatype=DataType.VARCHAR, max_length=2048, enable_analyzer=True)\n",
    "schema.add_field(field_name=\"sparse\", datatype=DataType.SPARSE_FLOAT_VECTOR)"
   ]
  },
  {
   "cell_type": "code",
   "execution_count": 2,
   "id": "2b3e4e32-6ad6-4c3a-b2f9-539917826c58",
   "metadata": {},
   "outputs": [
    {
     "data": {
      "text/plain": [
       "{'auto_id': False, 'description': '', 'fields': [{'name': 'id', 'description': '', 'type': <DataType.INT64: 5>, 'is_primary': True, 'auto_id': True}, {'name': 'text', 'description': '', 'type': <DataType.VARCHAR: 21>, 'params': {'max_length': 2048, 'enable_analyzer': True}}, {'name': 'sparse', 'description': '', 'type': <DataType.SPARSE_FLOAT_VECTOR: 104>, 'is_function_output': True}], 'enable_dynamic_field': False, 'functions': [{'name': 'text_bm25_emb', 'description': '', 'type': <FunctionType.BM25: 1>, 'input_field_names': ['text'], 'output_field_names': ['sparse'], 'params': {}}]}"
      ]
     },
     "execution_count": 2,
     "metadata": {},
     "output_type": "execute_result"
    }
   ],
   "source": [
    "bm25_function = Function(\n",
    "    name=\"text_bm25_emb\", # Function name\n",
    "    input_field_names=[\"text\"], # Name of the VARCHAR field containing raw text data\n",
    "    output_field_names=[\"sparse\"], # Name of the SPARSE_FLOAT_VECTOR field reserved to store generated embeddings\n",
    "    function_type=FunctionType.BM25, # Set to `BM25`\n",
    ")\n",
    "\n",
    "schema.add_function(bm25_function)"
   ]
  },
  {
   "cell_type": "code",
   "execution_count": 3,
   "id": "10a183cc-a152-44ac-80d3-a4e8549f264c",
   "metadata": {},
   "outputs": [],
   "source": [
    "index_params = client.prepare_index_params()\n",
    "\n",
    "index_params.add_index(\n",
    "    field_name=\"sparse\",\n",
    "\n",
    "    index_type=\"SPARSE_INVERTED_INDEX\",\n",
    "    metric_type=\"BM25\",\n",
    "    params={\n",
    "        \"inverted_index_algo\": \"DAAT_MAXSCORE\",\n",
    "        \"bm25_k1\": 1.2,\n",
    "        \"bm25_b\": 0.75\n",
    "    }\n",
    "\n",
    ")"
   ]
  },
  {
   "cell_type": "code",
   "execution_count": 4,
   "id": "0bb6a25f-d7a0-4ab0-b6b5-2a80fefe9ec0",
   "metadata": {},
   "outputs": [],
   "source": [
    "# Drop existing collection with the same name if it exists\n",
    "if client.has_collection(\"nyu_libraries_guides\"):\n",
    "    client.drop_collection(\"nyu_libraries_guides\")"
   ]
  },
  {
   "cell_type": "code",
   "execution_count": 5,
   "id": "704f57bd-972b-403d-ab70-dd670a79b1f4",
   "metadata": {},
   "outputs": [],
   "source": [
    "client.create_collection(\n",
    "    collection_name='nyu_libraries_guides', \n",
    "    schema=schema, \n",
    "    index_params=index_params\n",
    ")"
   ]
  },
  {
   "cell_type": "markdown",
   "id": "617a41a9-fe2d-4d3a-b359-31b31fe03e7e",
   "metadata": {},
   "source": [
    "## Set up chunker for use"
   ]
  },
  {
   "cell_type": "code",
   "execution_count": 6,
   "id": "77c812f0-c6a5-4cbb-9cd4-625bf810ac6d",
   "metadata": {},
   "outputs": [],
   "source": [
    "from docling.document_converter import DocumentConverter\n",
    "from docling.chunking import HybridChunker\n",
    "\n",
    "converter = DocumentConverter()\n",
    "chunker = HybridChunker()"
   ]
  },
  {
   "cell_type": "code",
   "execution_count": 7,
   "id": "fd3906a7-797a-4b5e-b0e2-83ee18b9bf08",
   "metadata": {},
   "outputs": [],
   "source": [
    "import pickle\n",
    "\n",
    "with open(\"guides.pickle\", \"rb\") as f:\n",
    "    guides = pickle.load(f)"
   ]
  },
  {
   "cell_type": "code",
   "execution_count": 8,
   "id": "9103ee9b-837a-4b16-a6e5-0ed9d331b950",
   "metadata": {},
   "outputs": [
    {
     "name": "stdout",
     "output_type": "stream",
     "text": [
      "https://guides.nyu.edu/LaTeX/getting-started\n",
      "https://guides.nyu.edu/LaTeX/exercises\n",
      "https://guides.nyu.edu/LaTeX/templates\n",
      "https://guides.nyu.edu/LaTeX/bibtex\n",
      "https://guides.nyu.edu/LaTeX/library-workshop-files\n",
      "https://guides.nyu.edu/LaTeX/resources\n",
      "https://guides.nyu.edu/LaTeX/creating-document\n",
      "https://guides.nyu.edu/LaTeX\n",
      "https://guides.nyu.edu/LaTeX/home\n",
      "https://guides.nyu.edu/LaTeX/sample-document\n",
      "https://guides.nyu.edu/LaTeX/installation\n"
     ]
    }
   ],
   "source": [
    "for subjects in guides[ 'https://guides.nyu.edu/LaTeX']:\n",
    "    print(subjects)"
   ]
  },
  {
   "cell_type": "code",
   "execution_count": 9,
   "id": "c1a065f4-1d79-4c95-9735-1ee0300b93b2",
   "metadata": {},
   "outputs": [
    {
     "name": "stderr",
     "output_type": "stream",
     "text": [
      "  0%|                                                                                                                                                     | 0/1 [00:00<?, ?it/s]Token indices sequence length is longer than the specified maximum sequence length for this model (1993 > 512). Running this sequence through the model will result in indexing errors\n",
      "100%|█████████████████████████████████████████████████████████████████████████████████████████████████████████████████████████████████████████████| 1/1 [00:03<00:00,  3.20s/it]\n"
     ]
    }
   ],
   "source": [
    "from tqdm import tqdm\n",
    "\n",
    "#for guide in tqdm(guides.keys()):\n",
    "for guide in tqdm([\"https://guides.nyu.edu/LaTeX\"]):\n",
    "    for subject in guides[guide]:\n",
    "        DOC_SOURCE = subject\n",
    "        try:\n",
    "            doc = converter.convert(source=DOC_SOURCE).document\n",
    "            chunk_iter = chunker.chunk(dl_doc=doc)\n",
    "            texts = [chunk.text for chunk in chunker.chunk(doc)]\n",
    "    \n",
    "            for text in texts:\n",
    "                if \"Email Me\" not in text:\n",
    "                    client.insert('nyu_libraries_guides', [{'text': text},])\n",
    "        except:\n",
    "            pass"
   ]
  },
  {
   "cell_type": "code",
   "execution_count": 10,
   "id": "9d2d5393-9791-469d-92b7-663dc7501fd7",
   "metadata": {},
   "outputs": [
    {
     "name": "stdout",
     "output_type": "stream",
     "text": [
      "[6.13486909866333, 5.829623699188232, 4.918405055999756, 4.715087413787842, 4.628559589385986]\n",
      "-----------------------------------------\n",
      "\\textbf{Hello World!} Today I am learning \\LaTeX. %notice how the command will end at the first non-alphabet charecter such as the . after \\LaTeX\n",
      "\\LaTeX{} is a great program for writing math. I can write in line math such as $a^2+b^2=c^2$ %$ tells LaTexX to compile as math\n",
      ". I can also give equations their own space:\n",
      "\\begin{equation} % Creates an equation environment and is compiled as math\n",
      "\\gamma^2+\\theta^2=\\omega^2\n",
      "\\end{equation}\n",
      "If I do not leave any blank lines \\LaTeX{} will continue  this text without making it into a new paragraph.  Notice how there was no indentation in the text after equation (1).\n",
      "Also notice how even though I hit enter after that sentence and here $\\downarrow$\n",
      "\\LaTeX{} formats the sentence without any break.  Also   look  how      it   doesn't     matter          how    many  spaces     I put     between       my    words.\n",
      "For a new paragraph I can leave a blank space in my code.\n",
      "\\end{document} % This is the end of the document\n",
      "-----------------------------------------\n",
      "1. What document class will I need and will this ever change?\n",
      "- It doesn't make sense to have a template if you will need to change the document class often. It is also important to recognize which document best suits your needs (i.e. if you want sections use article but if you want chapters use book).\n",
      "2. What packages will I need for the documents I am making?\n",
      "- One of the best reasons to have a template is that you won't have write the preamble every time you start a new document, therefore it is very important to include all the packages you will need. Its better to have extra packages than not enough.\n",
      "3. How do I want the document to be structured?\n",
      "- You can save time by incorporating certain common elements into you preamble such as title, author, and date. You may also want include certain structures in the document, for example if you were making a lab report you may already include all the sections the report requires (Introduction, Experimental Setup, Results, Conclusions, etc...).\n",
      "4. Are there any new commands that I will want to create?\n",
      "-----------------------------------------\n",
      "- Question\n",
      "- Hints\n",
      "- Solution\n",
      "Add to the document you created in exercise 1 the following text:\n",
      "\"LaTeX is a great program for writing math.  I can write in line math such as a^2 + b^2 = c^2.   I can also give equations their own space: gamma^2 +theta^2 = omega^2\"\n",
      "Your final document should look like this:\n",
      "A document with title, author, date, and text including math.\n",
      "- Is there a problem with the spacing after the second \\LaTeX? Try using \\LaTeX{} an empty argument can improve spacing with some commands.\n",
      "- To write in line math mode you need to include a $ before and after the text that should be written as math.\n",
      "- $$ before and after an equation or \\[ and \\] will cause LaTeX to entire a display environment\n",
      "- If you don't know how to create Greek letters check out the resources tab.\n",
      "- Use ^ for superscripts. Use _ for subscripts.\n",
      "\\documentclass{article}\n",
      "\\title{Hello World!}\n",
      "\\author{Your Name}\n",
      "\\date{January 1, 1831}\n",
      "\\begin{document}\n",
      "\\maketitle\n",
      "-----------------------------------------\n",
      "- \\vec{} will create vector notation. \\partial will give you partial derivatives, and remember for fractions use \\frac{numerator}{denomonator}.\n",
      "- If you are having trouble getting your parenthesis to look right use the command \\left( and \\right) this will automatically fit the parenthesis to the equation within. This also works with \\left[, \\left{, and \\left|, but you always need a \\right to go with it.\n",
      "\\documentclass{article}\n",
      "\\usepackage{amsmath}\n",
      "\\title{Hello World!}\n",
      "\\author{Your Name}\n",
      "\\date{January 1, 1831}\n",
      "\\begin{document}\n",
      "\\maketitle\n",
      "\\textbf{Hello World!} Today I am learning \\LaTeX. \\LaTeX{} is a great program for writing math. I can write in line math such as $a^2+b^2=c^2$. I can also give equations their own space:\n",
      "\\begin{equation}\n",
      "\\gamma^2+\\theta^2=\\omega^2\n",
      "\\end{equation}\n",
      "-----------------------------------------\n",
      "- Question\n",
      "- Hints\n",
      "- Solution\n",
      "In this exercise add the matrix equation to your document as seen below:\n",
      "LaTeX document contain a matrix equation.\n",
      "- There are different matrix environments in LaTeX such as matrix, pmatrix, and bmatrix.\n",
      "- In a matrix use the & character to denote new columns and the \\\\ command to start new rows.\n",
      "- If you are having trouble creating the dots use the commands \\dots, \\ddots, and \\vdots.\n",
      "\\documentclass{article}\n",
      "\\usepackage{amsmath}\n",
      "\\usepackage{hyperref}\n",
      "\\hypersetup{colorlinks=true, linkcolor=blue, urlcolor=blue, citecolor=blue}\n",
      "\\title{Hello World!}\n",
      "\\author{Your Name}\n",
      "\\date{January 1, 1831}\n",
      "\\begin{document}\n",
      "\\maketitle\n",
      "\\section{Getting Started}\n",
      "\\textbf{Hello World!} Today I am learning \\LaTeX. \\LaTeX{} is a great program for writing math. I can write in line math such as $a^2+b^2=c^2$. I can also give equations their own space:\n"
     ]
    }
   ],
   "source": [
    "search_params = {\n",
    "    'params': {'drop_ratio_search': 0.2},\n",
    "}\n",
    "\n",
    "num_retreive = 5\n",
    "\n",
    "retreived_chunks = client.search(\n",
    "    collection_name='nyu_libraries_guides', \n",
    "    data=['How can I use Matlab?'],\n",
    "    anns_field='sparse',\n",
    "    output_fields=['text'], # Fields to return in search results; sparse field cannot be output\n",
    "    limit=num_retreive,\n",
    "    search_params=search_params\n",
    ")\n",
    "\n",
    "for hits in iter(retreived_chunks):\n",
    "    # gets the distances to the query vector from all returned hits\n",
    "    print(hits.distances)\n",
    "    for hit in hits:\n",
    "        print(\"-----------------------------------------\")\n",
    "        print(hit.entity.get('text'))"
   ]
  },
  {
   "cell_type": "code",
   "execution_count": 11,
   "id": "37b4e7e5-7d2f-4d39-874a-facebbe358fc",
   "metadata": {},
   "outputs": [
    {
     "name": "stdout",
     "output_type": "stream",
     "text": [
      "[7.651721954345703, 6.582129001617432, 6.455765724182129, 6.118903636932373, 6.002688407897949]\n",
      "-----------------------------------------\n",
      "\\textbf{Hello World!} Today I am learning \\LaTeX. %notice how the command will end at the first non-alphabet charecter such as the . after \\LaTeX\n",
      "\\LaTeX{} is a great program for writing math. I can write in line math such as $a^2+b^2=c^2$ %$ tells LaTexX to compile as math\n",
      ". I can also give equations their own space:\n",
      "\\begin{equation} % Creates an equation environment and is compiled as math\n",
      "\\gamma^2+\\theta^2=\\omega^2\n",
      "\\end{equation}\n",
      "If I do not leave any blank lines \\LaTeX{} will continue  this text without making it into a new paragraph.  Notice how there was no indentation in the text after equation (1).\n",
      "Also notice how even though I hit enter after that sentence and here $\\downarrow$\n",
      "\\LaTeX{} formats the sentence without any break.  Also   look  how      it   doesn't     matter          how    many  spaces     I put     between       my    words.\n",
      "For a new paragraph I can leave a blank space in my code.\n",
      "\\end{document} % This is the end of the document\n",
      "-----------------------------------------\n",
      "1. What document class will I need and will this ever change?\n",
      "- It doesn't make sense to have a template if you will need to change the document class often. It is also important to recognize which document best suits your needs (i.e. if you want sections use article but if you want chapters use book).\n",
      "2. What packages will I need for the documents I am making?\n",
      "- One of the best reasons to have a template is that you won't have write the preamble every time you start a new document, therefore it is very important to include all the packages you will need. Its better to have extra packages than not enough.\n",
      "3. How do I want the document to be structured?\n",
      "- You can save time by incorporating certain common elements into you preamble such as title, author, and date. You may also want include certain structures in the document, for example if you were making a lab report you may already include all the sections the report requires (Introduction, Experimental Setup, Results, Conclusions, etc...).\n",
      "4. Are there any new commands that I will want to create?\n",
      "-----------------------------------------\n",
      "- Question\n",
      "- Hints\n",
      "- Solution\n",
      "Add to the document you created in exercise 1 the following text:\n",
      "\"LaTeX is a great program for writing math.  I can write in line math such as a^2 + b^2 = c^2.   I can also give equations their own space: gamma^2 +theta^2 = omega^2\"\n",
      "Your final document should look like this:\n",
      "A document with title, author, date, and text including math.\n",
      "- Is there a problem with the spacing after the second \\LaTeX? Try using \\LaTeX{} an empty argument can improve spacing with some commands.\n",
      "- To write in line math mode you need to include a $ before and after the text that should be written as math.\n",
      "- $$ before and after an equation or \\[ and \\] will cause LaTeX to entire a display environment\n",
      "- If you don't know how to create Greek letters check out the resources tab.\n",
      "- Use ^ for superscripts. Use _ for subscripts.\n",
      "\\documentclass{article}\n",
      "\\title{Hello World!}\n",
      "\\author{Your Name}\n",
      "\\date{January 1, 1831}\n",
      "\\begin{document}\n",
      "\\maketitle\n",
      "-----------------------------------------\n",
      "- \\vec{} will create vector notation. \\partial will give you partial derivatives, and remember for fractions use \\frac{numerator}{denomonator}.\n",
      "- If you are having trouble getting your parenthesis to look right use the command \\left( and \\right) this will automatically fit the parenthesis to the equation within. This also works with \\left[, \\left{, and \\left|, but you always need a \\right to go with it.\n",
      "\\documentclass{article}\n",
      "\\usepackage{amsmath}\n",
      "\\title{Hello World!}\n",
      "\\author{Your Name}\n",
      "\\date{January 1, 1831}\n",
      "\\begin{document}\n",
      "\\maketitle\n",
      "\\textbf{Hello World!} Today I am learning \\LaTeX. \\LaTeX{} is a great program for writing math. I can write in line math such as $a^2+b^2=c^2$. I can also give equations their own space:\n",
      "\\begin{equation}\n",
      "\\gamma^2+\\theta^2=\\omega^2\n",
      "\\end{equation}\n",
      "-----------------------------------------\n",
      "- Question\n",
      "- Hints\n",
      "- Solution\n",
      "In this exercise add the matrix equation to your document as seen below:\n",
      "LaTeX document contain a matrix equation.\n",
      "- There are different matrix environments in LaTeX such as matrix, pmatrix, and bmatrix.\n",
      "- In a matrix use the & character to denote new columns and the \\\\ command to start new rows.\n",
      "- If you are having trouble creating the dots use the commands \\dots, \\ddots, and \\vdots.\n",
      "\\documentclass{article}\n",
      "\\usepackage{amsmath}\n",
      "\\usepackage{hyperref}\n",
      "\\hypersetup{colorlinks=true, linkcolor=blue, urlcolor=blue, citecolor=blue}\n",
      "\\title{Hello World!}\n",
      "\\author{Your Name}\n",
      "\\date{January 1, 1831}\n",
      "\\begin{document}\n",
      "\\maketitle\n",
      "\\section{Getting Started}\n",
      "\\textbf{Hello World!} Today I am learning \\LaTeX. \\LaTeX{} is a great program for writing math. I can write in line math such as $a^2+b^2=c^2$. I can also give equations their own space:\n"
     ]
    }
   ],
   "source": [
    "search_params = {\n",
    "    'params': {'drop_ratio_search': 0.2},\n",
    "}\n",
    "\n",
    "num_retreive = 5\n",
    "\n",
    "retreived_chunks = client.search(\n",
    "    collection_name='nyu_libraries_guides', \n",
    "    data=['How can I use Matlab for research?'],\n",
    "    anns_field='sparse',\n",
    "    output_fields=['text'], # Fields to return in search results; sparse field cannot be output\n",
    "    limit=num_retreive,\n",
    "    search_params=search_params\n",
    ")\n",
    "\n",
    "for hits in iter(retreived_chunks):\n",
    "    # gets the distances to the query vector from all returned hits\n",
    "    print(hits.distances)\n",
    "    for hit in hits:\n",
    "        print(\"-----------------------------------------\")\n",
    "        print(hit.entity.get('text'))"
   ]
  },
  {
   "cell_type": "code",
   "execution_count": null,
   "id": "7d40ac04-a16b-4832-9efd-d3bb14a578be",
   "metadata": {},
   "outputs": [],
   "source": []
  }
 ],
 "metadata": {
  "kernelspec": {
   "display_name": "Python 3 (ipykernel)",
   "language": "python",
   "name": "python3"
  },
  "language_info": {
   "codemirror_mode": {
    "name": "ipython",
    "version": 3
   },
   "file_extension": ".py",
   "mimetype": "text/x-python",
   "name": "python",
   "nbconvert_exporter": "python",
   "pygments_lexer": "ipython3",
   "version": "3.13.0"
  }
 },
 "nbformat": 4,
 "nbformat_minor": 5
}
