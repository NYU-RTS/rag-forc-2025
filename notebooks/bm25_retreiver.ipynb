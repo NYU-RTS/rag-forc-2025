{
 "cells": [
  {
   "cell_type": "markdown",
   "id": "7fa739cd-b3b6-44f0-b83a-372222680444",
   "metadata": {},
   "source": [
    "# Adapted from https://milvus.io/docs/full-text-search.md"
   ]
  },
  {
   "cell_type": "code",
   "execution_count": 1,
   "id": "f65286b6-3d1b-4ca0-ae35-3e0633457608",
   "metadata": {},
   "outputs": [],
   "source": [
    "%%capture\n",
    "from pymilvus import MilvusClient, DataType, Function, FunctionType\n",
    "\n",
    "client = MilvusClient(\"./milvus_demo.db\")"
   ]
  },
  {
   "cell_type": "code",
   "execution_count": 3,
   "id": "e4499eae-beb3-4bff-8f7d-516b75db9f49",
   "metadata": {},
   "outputs": [
    {
     "data": {
      "text/plain": [
       "{'auto_id': False, 'description': '', 'fields': [{'name': 'id', 'description': '', 'type': <DataType.INT64: 5>, 'is_primary': True, 'auto_id': True}, {'name': 'text', 'description': '', 'type': <DataType.VARCHAR: 21>, 'params': {'max_length': 2048, 'enable_analyzer': True}}, {'name': 'sparse', 'description': '', 'type': <DataType.SPARSE_FLOAT_VECTOR: 104>}], 'enable_dynamic_field': False}"
      ]
     },
     "execution_count": 3,
     "metadata": {},
     "output_type": "execute_result"
    }
   ],
   "source": [
    "schema = client.create_schema()\n",
    "\n",
    "schema.add_field(field_name=\"id\", datatype=DataType.INT64, is_primary=True, auto_id=True)\n",
    "schema.add_field(field_name=\"text\", datatype=DataType.VARCHAR, max_length=2048, enable_analyzer=True)\n",
    "schema.add_field(field_name=\"sparse\", datatype=DataType.SPARSE_FLOAT_VECTOR)"
   ]
  },
  {
   "cell_type": "code",
   "execution_count": 4,
   "id": "2b3e4e32-6ad6-4c3a-b2f9-539917826c58",
   "metadata": {},
   "outputs": [
    {
     "data": {
      "text/plain": [
       "{'auto_id': False, 'description': '', 'fields': [{'name': 'id', 'description': '', 'type': <DataType.INT64: 5>, 'is_primary': True, 'auto_id': True}, {'name': 'text', 'description': '', 'type': <DataType.VARCHAR: 21>, 'params': {'max_length': 2048, 'enable_analyzer': True}}, {'name': 'sparse', 'description': '', 'type': <DataType.SPARSE_FLOAT_VECTOR: 104>, 'is_function_output': True}], 'enable_dynamic_field': False, 'functions': [{'name': 'text_bm25_emb', 'description': '', 'type': <FunctionType.BM25: 1>, 'input_field_names': ['text'], 'output_field_names': ['sparse'], 'params': {}}]}"
      ]
     },
     "execution_count": 4,
     "metadata": {},
     "output_type": "execute_result"
    }
   ],
   "source": [
    "bm25_function = Function(\n",
    "    name=\"text_bm25_emb\", # Function name\n",
    "    input_field_names=[\"text\"], # Name of the VARCHAR field containing raw text data\n",
    "    output_field_names=[\"sparse\"], # Name of the SPARSE_FLOAT_VECTOR field reserved to store generated embeddings\n",
    "    function_type=FunctionType.BM25, # Set to `BM25`\n",
    ")\n",
    "\n",
    "schema.add_function(bm25_function)"
   ]
  },
  {
   "cell_type": "code",
   "execution_count": 5,
   "id": "10a183cc-a152-44ac-80d3-a4e8549f264c",
   "metadata": {},
   "outputs": [],
   "source": [
    "index_params = client.prepare_index_params()\n",
    "\n",
    "index_params.add_index(\n",
    "    field_name=\"sparse\",\n",
    "\n",
    "    index_type=\"SPARSE_INVERTED_INDEX\",\n",
    "    metric_type=\"BM25\",\n",
    "    params={\n",
    "        \"inverted_index_algo\": \"DAAT_MAXSCORE\",\n",
    "        \"bm25_k1\": 1.2,\n",
    "        \"bm25_b\": 0.75\n",
    "    }\n",
    "\n",
    ")"
   ]
  },
  {
   "cell_type": "code",
   "execution_count": 6,
   "id": "0bb6a25f-d7a0-4ab0-b6b5-2a80fefe9ec0",
   "metadata": {},
   "outputs": [],
   "source": [
    "# Drop existing collection with the same name if it exists\n",
    "if client.has_collection(\"nyu_libraries_guides\"):\n",
    "    client.drop_collection(\"nyu_libraries_guides\")"
   ]
  },
  {
   "cell_type": "code",
   "execution_count": 7,
   "id": "704f57bd-972b-403d-ab70-dd670a79b1f4",
   "metadata": {},
   "outputs": [],
   "source": [
    "client.create_collection(\n",
    "    collection_name='nyu_libraries_guides', \n",
    "    schema=schema, \n",
    "    index_params=index_params\n",
    ")"
   ]
  },
  {
   "cell_type": "markdown",
   "id": "617a41a9-fe2d-4d3a-b359-31b31fe03e7e",
   "metadata": {},
   "source": [
    "## Set up chunker for use"
   ]
  },
  {
   "cell_type": "code",
   "execution_count": 8,
   "id": "77c812f0-c6a5-4cbb-9cd4-625bf810ac6d",
   "metadata": {},
   "outputs": [],
   "source": [
    "from docling.document_converter import DocumentConverter\n",
    "from docling.chunking import HybridChunker\n",
    "\n",
    "converter = DocumentConverter()\n",
    "chunker = HybridChunker()"
   ]
  },
  {
   "cell_type": "code",
   "execution_count": 9,
   "id": "fd3906a7-797a-4b5e-b0e2-83ee18b9bf08",
   "metadata": {},
   "outputs": [],
   "source": [
    "import pickle\n",
    "\n",
    "with open(\"guides.pickle\", \"rb\") as f:\n",
    "    guides = pickle.load(f)"
   ]
  },
  {
   "cell_type": "code",
   "execution_count": 10,
   "id": "9103ee9b-837a-4b16-a6e5-0ed9d331b950",
   "metadata": {},
   "outputs": [
    {
     "name": "stdout",
     "output_type": "stream",
     "text": [
      "https://guides.nyu.edu/LaTeX\n"
     ]
    }
   ],
   "source": [
    "for subjects in guides[ 'https://guides.nyu.edu/LaTeX']:\n",
    "    print(subjects)"
   ]
  },
  {
   "cell_type": "code",
   "execution_count": 11,
   "id": "c1a065f4-1d79-4c95-9735-1ee0300b93b2",
   "metadata": {},
   "outputs": [
    {
     "name": "stderr",
     "output_type": "stream",
     "text": [
      "  6%|████▊                                                                            | 19/319 [00:04<01:20,  3.73it/s]Token indices sequence length is longer than the specified maximum sequence length for this model (533 > 512). Running this sequence through the model will result in indexing errors\n",
      " 10%|███████▊                                                                         | 31/319 [00:08<01:26,  3.35it/s]Clashing hyperlinks: 'https://www-degruyter-com.proxy.library.nyu.edu/document/doi/10.7312/orth14675/html' and 'https://search.library.nyu.edu/permalink/01NYU_INST/1d6v258/alma990045458320107876'! Chose 'https://search.library.nyu.edu/permalink/01NYU_INST/1d6v258/alma990045458320107876'\n",
      " 47%|█████████████████████████████████████▎                                          | 149/319 [00:40<00:39,  4.26it/s]Clashing hyperlinks: 'https://persistent.library.nyu.edu/arch/NYU00819' and 'https://persistent.library.nyu.edu/arch/NYU02589'! Chose 'https://persistent.library.nyu.edu/arch/NYU02589'\n",
      " 75%|███████████████████████████████████████████████████████████▋                    | 238/319 [01:04<00:21,  3.83it/s]Clashing formatting: 'bold=True italic=True underline=False strikethrough=False script=<Script.BASELINE: 'baseline'>' and 'bold=True italic=False underline=False strikethrough=False script=<Script.BASELINE: 'baseline'>'! Chose 'bold=True italic=False underline=False strikethrough=False script=<Script.BASELINE: 'baseline'>'\n",
      "100%|████████████████████████████████████████████████████████████████████████████████| 319/319 [01:26<00:00,  3.69it/s]\n"
     ]
    }
   ],
   "source": [
    "from tqdm import tqdm\n",
    "\n",
    "#for guide in tqdm([\"https://guides.nyu.edu/LaTeX\"]):\n",
    "for guide in tqdm(guides.keys()):\n",
    "    for subject in guides[guide]:\n",
    "        DOC_SOURCE = subject\n",
    "        try:\n",
    "            doc = converter.convert(source=DOC_SOURCE).document\n",
    "            chunk_iter = chunker.chunk(dl_doc=doc)\n",
    "            texts = [chunk.text for chunk in chunker.chunk(doc)]\n",
    "    \n",
    "            for text in texts:\n",
    "                if \"Email Me\" not in text:\n",
    "                    client.insert('nyu_libraries_guides', [{'text': text},])\n",
    "        except:\n",
    "            pass"
   ]
  },
  {
   "cell_type": "code",
   "execution_count": null,
   "id": "d955ea45-4426-4426-9d76-c959d4bb1c31",
   "metadata": {},
   "outputs": [],
   "source": []
  },
  {
   "cell_type": "code",
   "execution_count": 12,
   "id": "0c02ee1c-a78f-43fd-b2d6-1a729945cf17",
   "metadata": {},
   "outputs": [
    {
     "name": "stdout",
     "output_type": "stream",
     "text": [
      "-----------------------------------------\n",
      "BM-25 score is 9.323919296264648\n",
      "Retreived text:\n",
      "**MATLAB**\n",
      "integrates numerical analysis, matrix computation, signal processing, and graphics in an easy to use environment.\n",
      "- MATLAB is available for students through the [Virtual Computer Lab](http://vcl.nyu.edu/) .\n",
      "- Individual licenses for faculty, staff, and students available through the [NYU Computer Store](http://www.bookstores.nyu.edu/computer.store/) .\n",
      "-----------------------------------------\n",
      "BM-25 score is 8.060081481933594\n",
      "Retreived text:\n",
      "Resources and support for statistical and numerical data analysis\n",
      "- [Home](https://guides.nyu.edu/c.php?g=277138&p=1847146)\n",
      "- [SPSS](https://guides.nyu.edu/spss)\n",
      "- [Stata](https://guides.nyu.edu/stata)\n",
      "- [SAS](https://guides.nyu.edu/sas)\n",
      "- [R](https://guides.nyu.edu/r)\n",
      "- [MATLAB](https://guides.nyu.edu/matlab)\n",
      "- [JMP](https://guides.nyu.edu/quant/jmp)\n",
      "- [Python](https://guides.nyu.edu/quant/python)\n",
      "- [Excel](https://guides.nyu.edu/quant/excel)\n",
      "- [SQL](https://guides.nyu.edu/quant/sql)\n",
      "- [Merging Data Sets](https://guides.nyu.edu/quant/merge)\n",
      "-----------------------------------------\n",
      "BM-25 score is 8.030661582946777\n",
      "Retreived text:\n",
      "[data analysis](https://guides.nyu.edu/srch.php?tag=data+analysis&default_lg=1)\n",
      ",\n",
      "[Data Services](https://guides.nyu.edu/srch.php?tag=Data+Services&default_lg=1)\n",
      ",\n",
      "[jmp](https://guides.nyu.edu/srch.php?tag=jmp&default_lg=1)\n",
      ",\n",
      "[join](https://guides.nyu.edu/srch.php?tag=join&default_lg=1)\n",
      ",\n",
      "[matlab](https://guides.nyu.edu/srch.php?tag=matlab&default_lg=1)\n",
      ",\n",
      "[merge](https://guides.nyu.edu/srch.php?tag=merge&default_lg=1)\n",
      ",\n",
      "[r](https://guides.nyu.edu/srch.php?tag=r&default_lg=1)\n",
      ",\n"
     ]
    }
   ],
   "source": [
    "query = \"Matlab?\"\n",
    "\n",
    "search_params = {\n",
    "    'params': {'drop_ratio_search': 0.2},\n",
    "} \n",
    "\n",
    "num_retreive = 3\n",
    "\n",
    "retreived_chunks = client.search(\n",
    "    collection_name='nyu_libraries_guides', \n",
    "    data=[query],\n",
    "    anns_field='sparse',\n",
    "    output_fields=['text'], # Fields to return in search results; sparse field cannot be output\n",
    "    limit=num_retreive,\n",
    "    search_params=search_params\n",
    ")\n",
    "\n",
    "for hits in iter(retreived_chunks):\n",
    "    for hit in hits:\n",
    "        print(\"-----------------------------------------\")\n",
    "        print(f\"BM-25 score is {hit.entity.get('distance')}\")\n",
    "        print(f\"Retreived text:\\n{hit.entity.get('text')}\")"
   ]
  },
  {
   "cell_type": "code",
   "execution_count": 13,
   "id": "37b4e7e5-7d2f-4d39-874a-facebbe358fc",
   "metadata": {},
   "outputs": [
    {
     "name": "stdout",
     "output_type": "stream",
     "text": [
      "-----------------------------------------\n",
      "BM-25 score is 18.539039611816406\n",
      "Retreived text:\n",
      "1. What is the most important/interesting/astounding finding from my research project?\n",
      "2. How can I visually share my research with conference attendees? Should I use charts, graphs, photos, images?\n",
      "3. What kind of information can I convey during my talk that will complement my poster?\n",
      "-----------------------------------------\n",
      "BM-25 score is 13.704264640808105\n",
      "Retreived text:\n",
      "- NYU Libraries for Beginners\n",
      "- Surviving the Stacks: How to Navigate and Use the Physical Collections in Bobst Library\n",
      "- Managing Your Research and Bibliographies with Citation Tools (EndNote, RefWorks, Zotero)\n",
      "- U.S. Research Libraries for International Students\n",
      "- Where in the World Can I Get This Book?: A Guide to Bobst Library Access Services\n",
      "- Introduction to Data Services\n",
      "- Finding Non-English Language Materials at NYU and Beyond\n",
      "- Introduction to NYU Special Collections\n",
      "-----------------------------------------\n",
      "BM-25 score is 13.125088691711426\n",
      "Retreived text:\n",
      "Book an appointment with me using my\n",
      "[online self-scheduler](http://nyu-shanghai.libcal.com/appointments/cmkm)\n",
      "and we can discuss your research topic in depth. We can explore your research question, how to refine and focus it, or how to break down your topic into manageable components; we can also discuss the best databases for your topic, and I can work with you to develop effective search strategies that utilize our collection of books and databases to the best of their ability\n"
     ]
    }
   ],
   "source": [
    "query = \"How can I use Matlab for research?\"\n",
    "\n",
    "search_params = {\n",
    "    'params': {'drop_ratio_search': 0.2},\n",
    "} \n",
    "\n",
    "num_retreive = 3\n",
    "\n",
    "retreived_chunks = client.search(\n",
    "    collection_name='nyu_libraries_guides', \n",
    "    data=[query],\n",
    "    anns_field='sparse',\n",
    "    output_fields=['text'], # Fields to return in search results; sparse field cannot be output\n",
    "    limit=num_retreive,\n",
    "    search_params=search_params\n",
    ")\n",
    "\n",
    "for hits in iter(retreived_chunks):\n",
    "    for hit in hits:\n",
    "        print(\"-----------------------------------------\")\n",
    "        print(f\"BM-25 score is {hit.entity.get('distance')}\")\n",
    "        print(f\"Retreived text:\\n{hit.entity.get('text')}\")"
   ]
  },
  {
   "cell_type": "code",
   "execution_count": null,
   "id": "7d40ac04-a16b-4832-9efd-d3bb14a578be",
   "metadata": {},
   "outputs": [],
   "source": []
  }
 ],
 "metadata": {
  "kernelspec": {
   "display_name": "Python 3 (ipykernel)",
   "language": "python",
   "name": "python3"
  },
  "language_info": {
   "codemirror_mode": {
    "name": "ipython",
    "version": 3
   },
   "file_extension": ".py",
   "mimetype": "text/x-python",
   "name": "python",
   "nbconvert_exporter": "python",
   "pygments_lexer": "ipython3",
   "version": "3.13.0"
  }
 },
 "nbformat": 4,
 "nbformat_minor": 5
}
