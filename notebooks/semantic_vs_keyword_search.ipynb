{
 "cells": [
  {
   "cell_type": "markdown",
   "id": "7fa739cd-b3b6-44f0-b83a-372222680444",
   "metadata": {},
   "source": [
    "# Semantic vs Keyword search"
   ]
  },
  {
   "cell_type": "code",
   "execution_count": 1,
   "id": "f65286b6-3d1b-4ca0-ae35-3e0633457608",
   "metadata": {},
   "outputs": [],
   "source": [
    "%%capture\n",
    "from pymilvus import MilvusClient, DataType, Function, FunctionType\n",
    "\n",
    "client = MilvusClient(\"./milvus_demo.db\")"
   ]
  },
  {
   "cell_type": "code",
   "execution_count": 2,
   "id": "3d901d9d-0bb3-4d92-b50b-fd312b4a13a7",
   "metadata": {},
   "outputs": [],
   "source": [
    "from sentence_transformers import SentenceTransformer\n",
    "\n",
    "model = SentenceTransformer('multi-qa-mpnet-base-cos-v1')"
   ]
  },
  {
   "cell_type": "code",
   "execution_count": 3,
   "id": "e4499eae-beb3-4bff-8f7d-516b75db9f49",
   "metadata": {},
   "outputs": [
    {
     "data": {
      "text/plain": [
       "{'auto_id': False, 'description': '', 'fields': [{'name': 'id', 'description': '', 'type': <DataType.INT64: 5>, 'is_primary': True, 'auto_id': True}, {'name': 'text', 'description': '', 'type': <DataType.VARCHAR: 21>, 'params': {'max_length': 2048, 'enable_analyzer': True}}, {'name': 'sparse', 'description': '', 'type': <DataType.SPARSE_FLOAT_VECTOR: 104>}, {'name': 'dense', 'description': '', 'type': <DataType.FLOAT_VECTOR: 101>, 'params': {'dim': 768}}], 'enable_dynamic_field': False}"
      ]
     },
     "execution_count": 3,
     "metadata": {},
     "output_type": "execute_result"
    }
   ],
   "source": [
    "schema = client.create_schema()\n",
    "\n",
    "schema.add_field(field_name=\"id\", datatype=DataType.INT64, is_primary=True, auto_id=True)\n",
    "schema.add_field(field_name=\"text\", datatype=DataType.VARCHAR, max_length=2048, enable_analyzer=True)\n",
    "schema.add_field(field_name=\"sparse\", datatype=DataType.SPARSE_FLOAT_VECTOR)\n",
    "schema.add_field(field_name=\"dense\", datatype=DataType.FLOAT_VECTOR, dim=768)"
   ]
  },
  {
   "cell_type": "code",
   "execution_count": 4,
   "id": "2b3e4e32-6ad6-4c3a-b2f9-539917826c58",
   "metadata": {},
   "outputs": [
    {
     "data": {
      "text/plain": [
       "{'auto_id': False, 'description': '', 'fields': [{'name': 'id', 'description': '', 'type': <DataType.INT64: 5>, 'is_primary': True, 'auto_id': True}, {'name': 'text', 'description': '', 'type': <DataType.VARCHAR: 21>, 'params': {'max_length': 2048, 'enable_analyzer': True}}, {'name': 'sparse', 'description': '', 'type': <DataType.SPARSE_FLOAT_VECTOR: 104>, 'is_function_output': True}, {'name': 'dense', 'description': '', 'type': <DataType.FLOAT_VECTOR: 101>, 'params': {'dim': 768}}], 'enable_dynamic_field': False, 'functions': [{'name': 'text_bm25_emb', 'description': '', 'type': <FunctionType.BM25: 1>, 'input_field_names': ['text'], 'output_field_names': ['sparse'], 'params': {}}]}"
      ]
     },
     "execution_count": 4,
     "metadata": {},
     "output_type": "execute_result"
    }
   ],
   "source": [
    "bm25_function = Function(\n",
    "    name=\"text_bm25_emb\", # Function name\n",
    "    input_field_names=[\"text\"], # Name of the VARCHAR field containing raw text data\n",
    "    output_field_names=[\"sparse\"], # Name of the SPARSE_FLOAT_VECTOR field reserved to store generated embeddings\n",
    "    function_type=FunctionType.BM25, # Set to `BM25`\n",
    ")\n",
    "\n",
    "schema.add_function(bm25_function)"
   ]
  },
  {
   "cell_type": "code",
   "execution_count": 5,
   "id": "10a183cc-a152-44ac-80d3-a4e8549f264c",
   "metadata": {},
   "outputs": [],
   "source": [
    "index_params = client.prepare_index_params()\n",
    "\n",
    "index_params.add_index(\n",
    "    field_name=\"sparse\",\n",
    "    index_type=\"SPARSE_INVERTED_INDEX\",\n",
    "    metric_type=\"BM25\",\n",
    "    params={\n",
    "        \"inverted_index_algo\": \"DAAT_MAXSCORE\",\n",
    "        \"bm25_k1\": 1.2,\n",
    "        \"bm25_b\": 0.75\n",
    "    }\n",
    ")\n",
    "\n",
    "index_params.add_index(\n",
    "    field_name=\"dense\",\n",
    "    index_name=\"text_dense_index\",\n",
    "    index_type=\"AUTOINDEX\",\n",
    "    metric_type=\"IP\"\n",
    ")"
   ]
  },
  {
   "cell_type": "code",
   "execution_count": 6,
   "id": "0bb6a25f-d7a0-4ab0-b6b5-2a80fefe9ec0",
   "metadata": {},
   "outputs": [],
   "source": [
    "# Drop existing collection with the same name if it exists\n",
    "if client.has_collection(\"semantic_vs_keyword_search\"):\n",
    "    client.drop_collection(\"semantic_vs_keyword_search\")"
   ]
  },
  {
   "cell_type": "code",
   "execution_count": 7,
   "id": "704f57bd-972b-403d-ab70-dd670a79b1f4",
   "metadata": {},
   "outputs": [],
   "source": [
    "client.create_collection(\n",
    "    collection_name='semantic_vs_keyword_search', \n",
    "    schema=schema, \n",
    "    index_params=index_params\n",
    ")"
   ]
  },
  {
   "cell_type": "code",
   "execution_count": 8,
   "id": "d12a4f46-34e5-444e-9137-ef3ec8503e02",
   "metadata": {},
   "outputs": [],
   "source": [
    "# Adapted from Hands-On Large Language Models by Jay Alammar, Maarten Grootendorst\n",
    "\n",
    "\n",
    "text = '''\n",
    "Interstellar is a 2014 epic science fiction film co-written, directed, and produced by Christopher Nolan. \n",
    "It stars Matthew McConaughey, Anne Hathaway, Jessica Chastain, Bill Irwin, Ellen Burstyn, Matt Damon, and Michael Caine. \n",
    "Set in a dystopian future where humanity is struggling to survive, the film follows a group of astronauts who travel through a wormhole near Saturn in search of a new home for mankind.\n",
    "\n",
    "Brothers Christopher and Jonathan Nolan wrote the screenplay, which had its origins in a script Jonathan developed in 2007. \n",
    "Caltech theoretical physicist and 2017 Nobel laureate in Physics[4] Kip Thorne was an executive producer, acted as a scientific consultant, and wrote a tie-in book, The Science of Interstellar. \n",
    "Cinematographer Hoyte van Hoytema shot it on 35 mm movie film in the Panavision anamorphic format and IMAX 70 mm. \n",
    "Principal photography began in late 2013 and took place in Alberta, Iceland, and Los Angeles. \n",
    "Interstellar uses extensive practical and miniature effects and the company Double Negative created additional digital effects.\n",
    "\n",
    "Interstellar premiered on October 26, 2014, in Los Angeles. \n",
    "In the United States, it was first released on film stock, expanding to venues using digital projectors. \n",
    "The film had a worldwide gross over $677 million (and $773 million with subsequent re-releases), making it the tenth-highest grossing film of 2014. \n",
    "It received acclaim for its performances, direction, screenplay, musical score, visual effects, ambition, themes, and emotional weight. \n",
    "It has also received praise from many astronomers for its scientific accuracy and portrayal of theoretical astrophysics. Since its premiere, Interstellar gained a cult following,[5] and now is regarded by many sci-fi experts as one of the best science-fiction films of all time.\n",
    "Interstellar was nominated for five awards at the 87th Academy Awards, winning Best Visual Effects, and received numerous other accolades\"\"\"\n",
    "'''\n",
    "\n",
    "# Split into a list of sentences\n",
    "texts = text.split('.')\n",
    "\n",
    "# Clean up to remove empty spaces and new lines\n",
    "texts = [t.strip(' \\n') for t in texts]"
   ]
  },
  {
   "cell_type": "code",
   "execution_count": 9,
   "id": "c1a065f4-1d79-4c95-9735-1ee0300b93b2",
   "metadata": {},
   "outputs": [],
   "source": [
    "from tqdm import tqdm\n",
    "\n",
    "for sentence in texts:\n",
    "    client.insert('semantic_vs_keyword_search', [{'text': sentence, 'dense': model.encode(sentence)}])"
   ]
  },
  {
   "cell_type": "code",
   "execution_count": 10,
   "id": "4449dcd5-24a9-4a41-8898-8cd30187948c",
   "metadata": {},
   "outputs": [],
   "source": [
    "query = \"How precise was the science?\""
   ]
  },
  {
   "cell_type": "code",
   "execution_count": 11,
   "id": "9d2d5393-9791-469d-92b7-663dc7501fd7",
   "metadata": {},
   "outputs": [
    {
     "name": "stdout",
     "output_type": "stream",
     "text": [
      "-----------------------------------------\n",
      "BM-25 score is 2.4856224060058594\n",
      "Retreived text: Caltech theoretical physicist and 2017 Nobel laureate in Physics[4] Kip Thorne was an executive producer, acted as a scientific consultant, and wrote a tie-in book, The Science of Interstellar\n",
      "-----------------------------------------\n",
      "BM-25 score is 1.6572182178497314\n",
      "Retreived text: Interstellar is a 2014 epic science fiction film co-written, directed, and produced by Christopher Nolan\n",
      "-----------------------------------------\n",
      "BM-25 score is 1.6211800575256348\n",
      "Retreived text: In the United States, it was first released on film stock, expanding to venues using digital projectors\n"
     ]
    }
   ],
   "source": [
    "search_params = {\n",
    "    'params': {'drop_ratio_search': 0.2},\n",
    "} \n",
    "\n",
    "num_retreive = 3\n",
    "\n",
    "retreived_chunks = client.search(\n",
    "    collection_name='semantic_vs_keyword_search', \n",
    "    data=[query],\n",
    "    anns_field='sparse',\n",
    "    output_fields=['text'], # Fields to return in search results; sparse field cannot be output\n",
    "    limit=num_retreive,\n",
    "    search_params=search_params\n",
    ")\n",
    "\n",
    "for hits in iter(retreived_chunks):\n",
    "    for hit in hits:\n",
    "        print(\"-----------------------------------------\")\n",
    "        print(f\"BM-25 score is {hit.entity.get('distance')}\")\n",
    "        print(f\"Retreived text: {hit.entity.get('text')}\")"
   ]
  },
  {
   "cell_type": "code",
   "execution_count": 12,
   "id": "7d40ac04-a16b-4832-9efd-d3bb14a578be",
   "metadata": {},
   "outputs": [
    {
     "name": "stdout",
     "output_type": "stream",
     "text": [
      "-----------------------------------------\n",
      "IP distance is 0.3729895353317261\n",
      "Retreived text: It has also received praise from many astronomers for its scientific accuracy and portrayal of theoretical astrophysics\n",
      "-----------------------------------------\n",
      "IP distance is 0.2487272471189499\n",
      "Retreived text: It received acclaim for its performances, direction, screenplay, musical score, visual effects, ambition, themes, and emotional weight\n",
      "-----------------------------------------\n",
      "IP distance is 0.20131808519363403\n",
      "Retreived text: Cinematographer Hoyte van Hoytema shot it on 35 mm movie film in the Panavision anamorphic format and IMAX 70 mm\n"
     ]
    }
   ],
   "source": [
    "query_dense_vector =  model.encode(query)\n",
    "\n",
    "res = client.search(\n",
    "    collection_name=\"semantic_vs_keyword_search\",\n",
    "    anns_field=\"dense\",\n",
    "    data=[query_dense_vector],\n",
    "    limit=3,\n",
    "    output_fields=[\"text\"]\n",
    ")\n",
    "\n",
    "\n",
    "for hits in iter(res):\n",
    "    for hit in hits:\n",
    "        print(\"-----------------------------------------\")\n",
    "        print(f\"IP distance is {hit.entity.get('distance')}\")\n",
    "        print(f\"Retreived text: {hit.entity.get('text')}\")"
   ]
  },
  {
   "cell_type": "code",
   "execution_count": null,
   "id": "07344422-14e1-496f-b23f-38d0180ccfe6",
   "metadata": {},
   "outputs": [],
   "source": []
  }
 ],
 "metadata": {
  "kernelspec": {
   "display_name": "Python 3 (ipykernel)",
   "language": "python",
   "name": "python3"
  },
  "language_info": {
   "codemirror_mode": {
    "name": "ipython",
    "version": 3
   },
   "file_extension": ".py",
   "mimetype": "text/x-python",
   "name": "python",
   "nbconvert_exporter": "python",
   "pygments_lexer": "ipython3",
   "version": "3.13.0"
  }
 },
 "nbformat": 4,
 "nbformat_minor": 5
}
