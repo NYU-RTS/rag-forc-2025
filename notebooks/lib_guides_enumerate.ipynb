{
 "cells": [
  {
   "cell_type": "code",
   "execution_count": 1,
   "id": "6b2f99c0-1cde-42ee-88cb-a387cbbc5c1f",
   "metadata": {},
   "outputs": [],
   "source": [
    "from bs4 import BeautifulSoup\n",
    "from urllib.request import Request, urlopen\n",
    "import pickle"
   ]
  },
  {
   "cell_type": "markdown",
   "id": "ca1445d9-c2e8-44c2-b742-3fd7718453b4",
   "metadata": {},
   "source": [
    "### Get a list of all guides"
   ]
  },
  {
   "cell_type": "code",
   "execution_count": 2,
   "id": "4c9c4ee7-9e35-477a-bec1-0350ae480599",
   "metadata": {},
   "outputs": [
    {
     "name": "stdout",
     "output_type": "stream",
     "text": [
      "registered 319 top level guide URLs\n"
     ]
    }
   ],
   "source": [
    "req = Request('https://guides.nyu.edu/sitemap.xml')\n",
    "html_page = urlopen(req).read()\n",
    "soup = BeautifulSoup(html_page, 'xml')\n",
    "guide_urls = set()\n",
    "for item in soup.find_all('loc'):\n",
    "    guide_urls.add(item.text)\n",
    "print(\"registered\", len(guide_urls), \"top level guide URLs\")"
   ]
  },
  {
   "cell_type": "markdown",
   "id": "190de083-7d35-4091-b927-6210dd124cf0",
   "metadata": {},
   "source": [
    "### For each guide, get a list of associated resources/pages"
   ]
  },
  {
   "cell_type": "code",
   "execution_count": 3,
   "id": "0cdc6bb7-3ca1-4e62-8781-f91b26acc90f",
   "metadata": {},
   "outputs": [
    {
     "name": "stdout",
     "output_type": "stream",
     "text": [
      "skipped 2954 subject level guide URLs\n",
      "registered 317 subject level guide URLs\n"
     ]
    }
   ],
   "source": [
    "guides = dict()\n",
    "urls_count = 0\n",
    "skip_count = 0\n",
    "\n",
    "content_hashes = set()\n",
    "\n",
    "for guide_url in guide_urls:\n",
    "    req = Request(guide_url)\n",
    "    html_page = urlopen(req).read()\n",
    "    soup = BeautifulSoup(html_page, 'html')\n",
    "    _subguides_for_this_guide = set()\n",
    "    for a in soup.find_all('a', href=True):\n",
    "        if guide_url in a['href']:\n",
    "            _content_hash = hash(soup)\n",
    "            # if we've seen this page before, move on\n",
    "            if _content_hash in content_hashes:\n",
    "                #print(f\"skipping {a['href']}\")\n",
    "                skip_count += 1\n",
    "                continue\n",
    "            else:\n",
    "                content_hashes.add(_content_hash)\n",
    "            _subguides_for_this_guide.add(a['href'])\n",
    "            urls_count += 1\n",
    "    guides[guide_url] = _subguides_for_this_guide\n",
    "    \n",
    "print(\"skipped\", skip_count, \"subject level guide URLs\")\n",
    "print(\"registered\", urls_count, \"subject level guide URLs\")"
   ]
  },
  {
   "cell_type": "markdown",
   "id": "69fdf6d2-4d2d-4cb2-8a25-a977c31e3c87",
   "metadata": {},
   "source": [
    "### List the associated resources for the ai-tools guide"
   ]
  },
  {
   "cell_type": "code",
   "execution_count": 4,
   "id": "acefd900-7779-44bd-907b-cc576df6167c",
   "metadata": {
    "scrolled": true
   },
   "outputs": [
    {
     "name": "stdout",
     "output_type": "stream",
     "text": [
      "{'https://guides.nyu.edu/ai-tools'}\n"
     ]
    }
   ],
   "source": [
    "print(guides[\"https://guides.nyu.edu/ai-tools\"])"
   ]
  },
  {
   "cell_type": "markdown",
   "id": "1dd121ca-6b1b-4fc9-b2da-6dd410817672",
   "metadata": {},
   "source": [
    "### Save to a file"
   ]
  },
  {
   "cell_type": "code",
   "execution_count": 5,
   "id": "ebf644ec-cac5-4c8e-9ad9-c78e100fb4d4",
   "metadata": {},
   "outputs": [],
   "source": [
    "with open(\"guides.pickle\", \"wb\") as f:\n",
    "    pickle.dump(guides, f)"
   ]
  }
 ],
 "metadata": {
  "kernelspec": {
   "display_name": "Python 3 (ipykernel)",
   "language": "python",
   "name": "python3"
  },
  "language_info": {
   "codemirror_mode": {
    "name": "ipython",
    "version": 3
   },
   "file_extension": ".py",
   "mimetype": "text/x-python",
   "name": "python",
   "nbconvert_exporter": "python",
   "pygments_lexer": "ipython3",
   "version": "3.13.0"
  }
 },
 "nbformat": 4,
 "nbformat_minor": 5
}
