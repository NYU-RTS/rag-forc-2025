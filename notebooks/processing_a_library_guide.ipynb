{
 "cells": [
  {
   "cell_type": "markdown",
   "id": "cd26a7a4-e623-4d83-be93-4a43f3b28191",
   "metadata": {},
   "source": [
    "## Walk through processing a single page using docling to get it ready for indexing for retreival"
   ]
  },
  {
   "cell_type": "code",
   "execution_count": 9,
   "id": "ff7fed40-8c1c-4f73-a83c-1860708825e6",
   "metadata": {},
   "outputs": [],
   "source": [
    "from rich.console import Console\n",
    "from rich.panel import Panel\n",
    "\n",
    "console = Console(width=210)  # for preventing Markdown table wrapped rendering\n",
    "\n",
    "def print_in_console(text):\n",
    "    console.print(Panel(text))"
   ]
  },
  {
   "cell_type": "code",
   "execution_count": 10,
   "id": "bc71631f-8056-495e-b8a3-3da844d33e65",
   "metadata": {},
   "outputs": [],
   "source": [
    "DOC_SOURCE = \"https://ml-site.cdn-apple.com/papers/the-illusion-of-thinking.pdf\""
   ]
  },
  {
   "cell_type": "code",
   "execution_count": 11,
   "id": "89c54dea-b1c9-4218-b1d4-e855b9e833e9",
   "metadata": {},
   "outputs": [
    {
     "name": "stderr",
     "output_type": "stream",
     "text": [
      "huggingface/tokenizers: The current process just got forked, after parallelism has already been used. Disabling parallelism to avoid deadlocks...\n",
      "To disable this warning, you can either:\n",
      "\t- Avoid using `tokenizers` before the fork if possible\n",
      "\t- Explicitly set the environment variable TOKENIZERS_PARALLELISM=(true | false)\n"
     ]
    }
   ],
   "source": [
    "from docling.document_converter import DocumentConverter\n",
    "\n",
    "converter = DocumentConverter()\n",
    "doc = converter.convert(DOC_SOURCE, page_range=(6,6)).document"
   ]
  },
  {
   "cell_type": "code",
   "execution_count": 12,
   "id": "28ac2fc5-e7e4-4dc8-b2cf-61571dccd11f",
   "metadata": {},
   "outputs": [
    {
     "data": {
      "text/html": [
       "<pre style=\"white-space:pre;overflow-x:auto;line-height:normal;font-family:Menlo,'DejaVu Sans Mono',consolas,'Courier New',monospace\">╭────────────────────────────────────────────────────────────────────────────────────────────────────────────────────────────────────────────────────────────────────────────────────────────────────────────────╮\n",
       "│ Figure 3: Illustration of the four puzzle environments. Columns show the progression from initial state (top) through intermediate state (middle) to target state (bottom) for puzzles: Tower of Hanoi (disk   │\n",
       "│ transfer across pegs), Checkers Jumping (position swapping of colored tokens), River Crossing (transporting entities across a river), and Blocks World (stack reconfiguration).                                │\n",
       "│                                                                                                                                                                                                                │\n",
       "│ &lt;!-- image --&gt;                                                                                                                                                                                                 │\n",
       "│                                                                                                                                                                                                                │\n",
       "│ ## 3.1 Puzzle Environments                                                                                                                                                                                     │\n",
       "│                                                                                                                                                                                                                │\n",
       "│ We evaluate LRM reasoning on four controllable puzzles spanning compositional depth, planning                                                                                                                  │\n",
       "│                                                                                                                                                                                                                │\n",
       "│ Checker Jumping is a one-dimensional puzzle arranging red checkers, blue checkers, and a single empty space in a line. The objective is to swap the positions of all red and blue checkers, effectively        │\n",
       "│ mirroring the initial configuration. Valid moves include sliding a checker into an adjacent empty space or jumping over exactly one checker of the opposite color to land in an empty space. No checker can    │\n",
       "│ move backward in the puzzle process. The complexity of this task can be controlled by the number of checkers: with 2 n checkers, the minimum number of moves required will be ( n +1) 2 -1 . is a constraint   │\n",
       "│ satisfaction planning puzzle involving actors and their corresponding complexity, and distributional settings. The puzzles are defined below and illustrated in Fig. 3. Tower of Hanoi is a puzzle featuring   │\n",
       "│ three pegs and n disks of different sizes stacked on the first peg in size order (largest at bottom). The goal is to transfer all disks from the first peg to the third peg. Valid moves include moving only   │\n",
       "│ one disk at a time, taking only the top disk from a peg, and never placing a larger disk on top of a smaller one. The difficulty in this task can be controlled by the number of initial disks as the minimum  │\n",
       "│ number of required moves with n initial disks will be 2 n -1 . However, in this work we do not grade for optimality of final solution and only measuring the correctness of each move and reaching the target  │\n",
       "│ state.                                                                                                                                                                                                         │\n",
       "│                                                                                                                                                                                                                │\n",
       "│ River Crossing n n agents who must cross a river using a boat. The goal is to transport all 2 n individuals from the left bank to the right bank. The boat can carry at most k individuals and cannot travel   │\n",
       "│ empty. Invalid situations arise when an actor is in the presence of another agent without their own agent present, as each agent must protect their client from competing agents. The complexity of this task  │\n",
       "│ can also be controlled by the number of actor/agent pairs present. For n = 2 , n = 3 pairs, we use boat capacity of k = 2 and for larger number of pairs we use k = 3 .                                        │\n",
       "│                                                                                                                                                                                                                │\n",
       "│ Blocks World is a block-stacking puzzle requiring rearrangement of blocks from an initial configuration into a specified goal configuration. The objective is to find the minimum number of moves needed for   │\n",
       "│ this transformation. Valid moves are restricted to the topmost block of any stack, which can be placed either on an empty stack or on top of another block. The complexity in this task can be controlled by   │\n",
       "│ the number of blocks present.                                                                                                                                                                                  │\n",
       "╰────────────────────────────────────────────────────────────────────────────────────────────────────────────────────────────────────────────────────────────────────────────────────────────────────────────────╯\n",
       "</pre>\n"
      ],
      "text/plain": [
       "╭────────────────────────────────────────────────────────────────────────────────────────────────────────────────────────────────────────────────────────────────────────────────────────────────────────────────╮\n",
       "│ Figure 3: Illustration of the four puzzle environments. Columns show the progression from initial state (top) through intermediate state (middle) to target state (bottom) for puzzles: Tower of Hanoi (disk   │\n",
       "│ transfer across pegs), Checkers Jumping (position swapping of colored tokens), River Crossing (transporting entities across a river), and Blocks World (stack reconfiguration).                                │\n",
       "│                                                                                                                                                                                                                │\n",
       "│ <!-- image -->                                                                                                                                                                                                 │\n",
       "│                                                                                                                                                                                                                │\n",
       "│ ## 3.1 Puzzle Environments                                                                                                                                                                                     │\n",
       "│                                                                                                                                                                                                                │\n",
       "│ We evaluate LRM reasoning on four controllable puzzles spanning compositional depth, planning                                                                                                                  │\n",
       "│                                                                                                                                                                                                                │\n",
       "│ Checker Jumping is a one-dimensional puzzle arranging red checkers, blue checkers, and a single empty space in a line. The objective is to swap the positions of all red and blue checkers, effectively        │\n",
       "│ mirroring the initial configuration. Valid moves include sliding a checker into an adjacent empty space or jumping over exactly one checker of the opposite color to land in an empty space. No checker can    │\n",
       "│ move backward in the puzzle process. The complexity of this task can be controlled by the number of checkers: with 2 n checkers, the minimum number of moves required will be ( n +1) 2 -1 . is a constraint   │\n",
       "│ satisfaction planning puzzle involving actors and their corresponding complexity, and distributional settings. The puzzles are defined below and illustrated in Fig. 3. Tower of Hanoi is a puzzle featuring   │\n",
       "│ three pegs and n disks of different sizes stacked on the first peg in size order (largest at bottom). The goal is to transfer all disks from the first peg to the third peg. Valid moves include moving only   │\n",
       "│ one disk at a time, taking only the top disk from a peg, and never placing a larger disk on top of a smaller one. The difficulty in this task can be controlled by the number of initial disks as the minimum  │\n",
       "│ number of required moves with n initial disks will be 2 n -1 . However, in this work we do not grade for optimality of final solution and only measuring the correctness of each move and reaching the target  │\n",
       "│ state.                                                                                                                                                                                                         │\n",
       "│                                                                                                                                                                                                                │\n",
       "│ River Crossing n n agents who must cross a river using a boat. The goal is to transport all 2 n individuals from the left bank to the right bank. The boat can carry at most k individuals and cannot travel   │\n",
       "│ empty. Invalid situations arise when an actor is in the presence of another agent without their own agent present, as each agent must protect their client from competing agents. The complexity of this task  │\n",
       "│ can also be controlled by the number of actor/agent pairs present. For n = 2 , n = 3 pairs, we use boat capacity of k = 2 and for larger number of pairs we use k = 3 .                                        │\n",
       "│                                                                                                                                                                                                                │\n",
       "│ Blocks World is a block-stacking puzzle requiring rearrangement of blocks from an initial configuration into a specified goal configuration. The objective is to find the minimum number of moves needed for   │\n",
       "│ this transformation. Valid moves are restricted to the topmost block of any stack, which can be placed either on an empty stack or on top of another block. The complexity in this task can be controlled by   │\n",
       "│ the number of blocks present.                                                                                                                                                                                  │\n",
       "╰────────────────────────────────────────────────────────────────────────────────────────────────────────────────────────────────────────────────────────────────────────────────────────────────────────────────╯\n"
      ]
     },
     "metadata": {},
     "output_type": "display_data"
    }
   ],
   "source": [
    "from docling_core.transforms.serializer.markdown import MarkdownDocSerializer\n",
    "\n",
    "serializer = MarkdownDocSerializer(doc=doc)\n",
    "ser_result = serializer.serialize()\n",
    "ser_text = ser_result.text\n",
    "\n",
    "print_in_console(ser_text)"
   ]
  },
  {
   "cell_type": "code",
   "execution_count": 13,
   "id": "3029b9cf-c1fb-42d1-9dec-dfe3e81c2ac1",
   "metadata": {},
   "outputs": [],
   "source": [
    "from docling.chunking import HybridChunker\n",
    "\n",
    "chunker = HybridChunker()\n",
    "chunk_iter = chunker.chunk(dl_doc=doc)"
   ]
  },
  {
   "cell_type": "code",
   "execution_count": 14,
   "id": "6ba31b87-c04f-4e03-b915-cb65da3c331e",
   "metadata": {},
   "outputs": [],
   "source": [
    "texts = [chunk.text for chunk in chunker.chunk(doc)]"
   ]
  },
  {
   "cell_type": "code",
   "execution_count": 15,
   "id": "e82f6051-2fb2-4aec-afcf-5b5c9ecdd7fb",
   "metadata": {},
   "outputs": [
    {
     "name": "stdout",
     "output_type": "stream",
     "text": [
      "-----------\n",
      "Figure 3: Illustration of the four puzzle environments. Columns show the progression from initial state (top) through intermediate state (middle) to target state (bottom) for puzzles: Tower of Hanoi (disk transfer across pegs), Checkers Jumping (position swapping of colored tokens), River Crossing (transporting entities across a river), and Blocks World (stack reconfiguration).\n",
      "-----------\n",
      "We evaluate LRM reasoning on four controllable puzzles spanning compositional depth, planning\n",
      "-----------\n",
      "Checker Jumping is a one-dimensional puzzle arranging red checkers, blue checkers, and a single empty space in a line. The objective is to swap the positions of all red and blue checkers, effectively mirroring the initial configuration. Valid moves include sliding a checker into an adjacent empty space or jumping over exactly one checker of the opposite color to land in an empty space. No checker can move backward in the puzzle process. The complexity of this task can be controlled by the number of checkers: with 2 n checkers, the minimum number of moves required will be ( n +1) 2 -1 . is a constraint satisfaction planning puzzle involving actors and their corresponding complexity, and distributional settings. The puzzles are defined below and illustrated in Fig. 3. Tower of Hanoi is a puzzle featuring three pegs and n disks of different sizes stacked on the first peg in size order (largest at bottom). The goal is to transfer all disks from the first peg to the third peg. Valid moves include moving only one disk at a time, taking only the top disk from a peg, and never placing a larger disk on top of a smaller one. The difficulty in this task can be controlled by the number of initial disks\n",
      "-----------\n",
      "as the minimum number of required moves with n initial disks will be 2 n -1 . However, in this work we do not grade for optimality of final solution and only measuring the correctness of each move and reaching the target state.\n",
      "River Crossing n n agents who must cross a river using a boat. The goal is to transport all 2 n individuals from the left bank to the right bank. The boat can carry at most k individuals and cannot travel empty. Invalid situations arise when an actor is in the presence of another agent without their own agent present, as each agent must protect their client from competing agents. The complexity of this task can also be controlled by the number of actor/agent pairs present. For n = 2 , n = 3 pairs, we use boat capacity of k = 2 and for larger number of pairs we use k = 3 .\n",
      "-----------\n",
      "Blocks World is a block-stacking puzzle requiring rearrangement of blocks from an initial configuration into a specified goal configuration. The objective is to find the minimum number of moves needed for this transformation. Valid moves are restricted to the topmost block of any stack, which can be placed either on an empty stack or on top of another block. The complexity in this task can be controlled by the number of blocks present.\n"
     ]
    }
   ],
   "source": [
    "for text in texts:\n",
    "    print(\"-----------\")\n",
    "    print(text)"
   ]
  },
  {
   "cell_type": "code",
   "execution_count": null,
   "id": "1beeab1a-6823-4f60-86d9-83a08c43ed53",
   "metadata": {},
   "outputs": [],
   "source": []
  }
 ],
 "metadata": {
  "kernelspec": {
   "display_name": "Python 3 (ipykernel)",
   "language": "python",
   "name": "python3"
  },
  "language_info": {
   "codemirror_mode": {
    "name": "ipython",
    "version": 3
   },
   "file_extension": ".py",
   "mimetype": "text/x-python",
   "name": "python",
   "nbconvert_exporter": "python",
   "pygments_lexer": "ipython3",
   "version": "3.13.0"
  }
 },
 "nbformat": 4,
 "nbformat_minor": 5
}
